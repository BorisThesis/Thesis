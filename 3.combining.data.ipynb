{
 "cells": [
  {
   "cell_type": "code",
   "execution_count": 1,
   "metadata": {},
   "outputs": [],
   "source": [
    "import pandas as pd\n",
    "import tarfile\n",
    "import xml.etree.ElementTree as ET\n",
    "from xml.dom.minidom import parse, parseString\n",
    "from collections import Counter\n",
    "import numpy as np\n",
    "import re\n",
    "import csv\n",
    "from tqdm import tqdm\n",
    "import csv\n",
    "import pickle\n",
    "import matplotlib.pyplot as plt\n",
    "import time\n",
    "import os\n",
    "import xmltodict\n",
    "from collections.abc import MutableMapping\n",
    "import copy\n",
    "import category_encoders as ce\n",
    "import math\n",
    "from sklearn.preprocessing import RobustScaler"
   ]
  },
  {
   "cell_type": "code",
   "execution_count": 2,
   "metadata": {},
   "outputs": [],
   "source": [
    "#pandas settings\n",
    "pd.set_option('display.max_columns', None)\n",
    "pd.set_option('display.max_rows', None)"
   ]
  },
  {
   "cell_type": "code",
   "execution_count": 3,
   "metadata": {},
   "outputs": [],
   "source": [
    "df_csv = pd.read_pickle(\"../3.new_data/2B.df_from_csv_preprocessed.pickle\")\n",
    "df_xml = pd.read_pickle(\"../3.new_data/2A.df_extracted_xml.pickle\")"
   ]
  },
  {
   "cell_type": "code",
   "execution_count": 4,
   "metadata": {},
   "outputs": [
    {
     "data": {
      "text/plain": [
       "74144"
      ]
     },
     "execution_count": 4,
     "metadata": {},
     "output_type": "execute_result"
    }
   ],
   "source": [
    "#GET TENDERS WITH NO LOTS\n",
    "df_csv = df_csv.loc[df_csv[\"lots\"] == \"N\"]\n",
    "#df_xml = df_xml.loc[df_xml[\"ID_LOT\"] == -1]\n",
    "\n",
    "#CHANGE TYPE FOR MERGING AND DROP DUPLICATES\n",
    "df_xml[\"ID_NOTICE_CAN\"] = df_xml[\"ID_NOTICE_CAN\"].astype(int)\n",
    "df_csv = df_csv.drop_duplicates(subset = [\"ID_NOTICE_CAN\"])\n",
    "df_xml = df_xml.drop_duplicates(subset = [\"ID_NOTICE_CAN\"])\n",
    "\n",
    "len(df_csv)"
   ]
  },
  {
   "cell_type": "code",
   "execution_count": 5,
   "metadata": {},
   "outputs": [
    {
     "data": {
      "text/plain": [
       "74144"
      ]
     },
     "execution_count": 5,
     "metadata": {},
     "output_type": "execute_result"
    }
   ],
   "source": [
    "#MERGE THE DATASETS\n",
    "df = pd.merge(df_csv, df_xml, on=\"ID_NOTICE_CAN\", how = \"left\")\n",
    "len(df)"
   ]
  },
  {
   "cell_type": "code",
   "execution_count": 6,
   "metadata": {},
   "outputs": [
    {
     "data": {
      "text/plain": [
       "46990"
      ]
     },
     "execution_count": 6,
     "metadata": {},
     "output_type": "execute_result"
    }
   ],
   "source": [
    "#REMOVE THE IDENTICAL VALUES FOR ESTIMATES AND AWARD PRICE\n",
    "df = df.drop(labels=[i for i in range(0, len(df)) if df[\"AWARD_VALUE_EURO_FIN_1\"].iloc[i] == df[\"AWARD_EST_VALUE_EURO\"].iloc[i]], axis = 0).reset_index(drop=True)\n",
    "len(df)"
   ]
  },
  {
   "cell_type": "code",
   "execution_count": 7,
   "metadata": {},
   "outputs": [],
   "source": [
    "numerical_cols = [\"AWARD_EST_VALUE_EURO\", \"CRIT_PRICE_WEIGHT\", \"NUMBER_OFFERS\", \"AWARD_VALUE_EURO_FIN_1\"]\n",
    "df[numerical_cols] = df[numerical_cols].astype(float)"
   ]
  },
  {
   "attachments": {},
   "cell_type": "markdown",
   "metadata": {},
   "source": [
    "--------------------------------------------------------\n",
    "FINAL PREPROCESSING\n",
    "--------------------------------------------------------\n",
    "--------------------------------------------------------"
   ]
  },
  {
   "cell_type": "code",
   "execution_count": 8,
   "metadata": {},
   "outputs": [
    {
     "name": "stdout",
     "output_type": "stream",
     "text": [
      "CAE_NAME has 17395 unique values of 46990 in total\n"
     ]
    }
   ],
   "source": [
    "#DROP COLUMNS WHICH ARE NOT USED FOR FINAL ANALYSIS\n",
    "print(\"CAE_NAME has {} unique values of {} in total\".format(len(df[\"CAE_NAME\"].unique()), len(df)))\n",
    "drop_columns = [\"ID_LOT_x\", \"ID_LOT_y\", \"lots\", \"ID_NOTICE_CAN\", \"LOTS_NUMBER\", \"CAE_NAME\", \"duration\", \"duration type\", \"date start\", \"date end\", \"VALUE_EURO\"]\n",
    "df = df.drop(columns = drop_columns)\n",
    "\n",
    "#LIST ALL TENDERS with missing values for short description\n",
    "missing_short_descr = df.loc[pd.isna(df[\"short description\"]) == True].index.tolist()\n",
    "df = df.drop(labels = missing_short_descr, axis = 0).reset_index(drop=True)"
   ]
  },
  {
   "attachments": {},
   "cell_type": "markdown",
   "metadata": {},
   "source": [
    "42291 values for duration were missing from the 46000 in total <br>\n",
    "same for date start and end <br>\n",
    "\n",
    "17395 unique values for name with 46990 total, making them useless as a categorical variable <br>\n",
    "\n",
    "drop rows without a short description <br>"
   ]
  },
  {
   "attachments": {},
   "cell_type": "markdown",
   "metadata": {},
   "source": [
    "sub question 1: <br>\n",
    "PL == 8174 <br>\n",
    "ES == 6884 <br>\n",
    "these candidate countries seem like the best candidates for the comparison with rodriguez <br>\n",
    "compare with the whole dataset <br>\n",
    "<br>\n",
    "sub question 2: <br>\n",
    "get the data for only english <br>"
   ]
  },
  {
   "cell_type": "code",
   "execution_count": 9,
   "metadata": {},
   "outputs": [
    {
     "name": "stdout",
     "output_type": "stream",
     "text": [
      "ISO_COUNTRY_CODE :  31\n",
      "CAE_TYPE :  8\n",
      "MAIN_ACTIVITY :  21\n",
      "B_ON_BEHALF :  2\n",
      "B_AWARDED_BY_CENTRAL_BODY :  2\n",
      "TYPE_OF_CONTRACT :  3\n",
      "TAL_LOCATION_NUTS :  2647\n",
      "B_FRA_AGREEMENT :  2\n",
      "CPV :  45\n",
      "B_EU_FUNDS :  2\n",
      "TOP_TYPE :  7\n",
      "B_ACCELERATED :  2\n",
      "CRIT_CODE :  2\n",
      "CRIT_PRICE_WEIGHT :  97\n",
      "NUMBER_OFFERS :  98\n",
      "AWARD_EST_VALUE_EURO :  31709\n",
      "AWARD_VALUE_EURO_FIN_1 :  41935\n",
      "DT_AWARD :  880\n",
      "LG_ORIG :  21\n",
      "short description :  41430\n",
      "title :  37528\n",
      "ac criterion :  15984\n"
     ]
    }
   ],
   "source": [
    "for col in df.columns:\n",
    "    print(col, \": \", len(df[col].unique()))"
   ]
  },
  {
   "cell_type": "code",
   "execution_count": 17,
   "metadata": {},
   "outputs": [],
   "source": [
    "def make_boxplots(df, columns):\n",
    "    num_cols = len(columns)\n",
    "    num_rows = math.ceil(math.sqrt(num_cols))\n",
    "    num_cols_per_row = math.ceil(num_cols / num_rows)\n",
    "\n",
    "    plt.figure(figsize=(15, 5 * num_rows))\n",
    "    fig, axes = plt.subplots(num_rows, num_cols_per_row, figsize=(15, 5 * num_rows))\n",
    "\n",
    "    # Flatten the axes array to simplify indexing\n",
    "    axes = axes.flatten()\n",
    "\n",
    "    for i, column in enumerate(columns):\n",
    "        ax = axes[i]\n",
    "        if i < num_cols:\n",
    "            ax.boxplot(df[column])\n",
    "            ax.set_title(column)\n",
    "        else:\n",
    "            fig.delaxes(ax)\n",
    "\n",
    "    plt.tight_layout()\n",
    "    plt.show()"
   ]
  },
  {
   "cell_type": "code",
   "execution_count": 30,
   "metadata": {},
   "outputs": [],
   "source": [
    "def filter_outliers(df, upper, lower, target_col):\n",
    "    \"\"\"This function only works on numerical columns\"\"\"\n",
    "    data_array = np.sort(df[target_col].to_numpy())\n",
    "    cut_off_low_indice = math.floor(lower * len(data_array))\n",
    "    cut_off_high_indice = math.floor(upper * len(data_array)) - 1\n",
    "    low_amount = data_array[cut_off_low_indice]\n",
    "    high_amount = data_array[cut_off_high_indice]\n",
    "\n",
    "    outlier_indices = []\n",
    "\n",
    "    for i in range(0, len(df)):\n",
    "        if df[target_col].iloc[i] > high_amount:\n",
    "            outlier_indices.append(i)\n",
    "        elif df[target_col].iloc[i] < low_amount:\n",
    "            outlier_indices.append(i)\n",
    "        else:\n",
    "            continue\n",
    "\n",
    "    print(\"{} rows were dropped because of outliers, with high amount = {}, and low amount = {}\".format(len(outlier_indices), high_amount, low_amount))\n",
    "    df = df.drop(labels = outlier_indices, axis = 0).reset_index(drop=True)\n",
    "    return df"
   ]
  },
  {
   "cell_type": "code",
   "execution_count": 34,
   "metadata": {},
   "outputs": [
    {
     "name": "stdout",
     "output_type": "stream",
     "text": [
      "5968 rows were dropped because of outliers, with high amount = 5750000.0, and low amount = 7830.02\n",
      "799 rows were dropped because of outliers, with high amount = 8302448.62, and low amount = 9585.42\n"
     ]
    }
   ],
   "source": [
    "df = filter_outliers(df, upper = 0.95, lower = 0.08, target_col=\"AWARD_VALUE_EURO_FIN_1\")\n",
    "df = filter_outliers(df, upper = 0.99, lower = 0.01, target_col=\"AWARD_EST_VALUE_EURO\")"
   ]
  },
  {
   "cell_type": "code",
   "execution_count": 35,
   "metadata": {},
   "outputs": [
    {
     "data": {
      "text/plain": [
       "<Figure size 1500x1000 with 0 Axes>"
      ]
     },
     "metadata": {},
     "output_type": "display_data"
    },
    {
     "data": {
      "image/png": "[encoded data removed]",
      "text/plain": [
       "<Figure size 1500x1000 with 4 Axes>"
      ]
     },
     "metadata": {},
     "output_type": "display_data"
    }
   ],
   "source": [
    "numeric_cols = [\"NUMBER_OFFERS\", \"AWARD_EST_VALUE_EURO\", \"CRIT_PRICE_WEIGHT\", \"AWARD_VALUE_EURO_FIN_1\"]\n",
    "make_boxplots(df, columns = numeric_cols)"
   ]
  },
  {
   "cell_type": "code",
   "execution_count": 37,
   "metadata": {},
   "outputs": [],
   "source": [
    "replication_cols = [\"TOP_TYPE\", \"B_ACCELERATED\", \"TYPE_OF_CONTRACT\", \"TAL_LOCATION_NUTS\",\n",
    "                            \"CPV\", \"DT_AWARD\", \"NUMBER_OFFERS\", \"AWARD_VALUE_EURO_FIN_1\", \"AWARD_EST_VALUE_EURO\", \"ISO_COUNTRY_CODE\"]\n",
    "\n",
    "extension_columns = [\"CAE_TYPE\", \"MAIN_ACTIVITY\", \"B_ON_BEHALF\",\n",
    "             \"B_AWARDED_BY_CENTRAL_BODY\", \"B_FRA_AGREEMENT\", \"B_EU_FUNDS\", \"CRIT_CODE\", \"CRIT_PRICE_WEIGHT\"\n",
    "             ]\n",
    "\n",
    "df_structured = df[replication_cols]\n",
    "df_structured_extension = df[replication_cols + extension_columns]"
   ]
  },
  {
   "cell_type": "code",
   "execution_count": 38,
   "metadata": {},
   "outputs": [],
   "source": [
    "#COMBINE ALL TEXT DATA\n",
    "combined_text = []\n",
    "\n",
    "for i in range(0, len(df)):\n",
    "    row = df.iloc[i]\n",
    "    short_descr = df[\"short description\"].iloc[i]\n",
    "    title = df[\"title\"].iloc[i]\n",
    "    criterion = df[\"ac criterion\"].iloc[i]\n",
    "\n",
    "    if pd.isna(criterion) == False and pd.isna(title) == False:\n",
    "        combined_text.append(\"{} {} {} \".format(short_descr, criterion, title))\n",
    "    elif pd.isna(criterion) == True and pd.isna(title) == False:\n",
    "        combined_text.append(\"{} {} \".format(short_descr, title))\n",
    "    if pd.isna(criterion) == False and pd.isna(title) == True:\n",
    "        combined_text.append(\"{} {}\".format(short_descr, criterion))\n",
    "    else:\n",
    "        continue\n",
    "\n",
    "df[\"combined text\"] = combined_text"
   ]
  },
  {
   "cell_type": "code",
   "execution_count": 39,
   "metadata": {},
   "outputs": [],
   "source": [
    "#COMBINE SHORT DESCRIPTION WITH CRITERIA\n",
    "short_descr_criterion = []\n",
    "\n",
    "for i in range(0, len(df)):\n",
    "    row = df.iloc[i]\n",
    "    short_descr = df[\"short description\"].iloc[i]\n",
    "    criterion = df[\"ac criterion\"].iloc[i]\n",
    "\n",
    "    if pd.isna(criterion) == False:\n",
    "        short_descr_criterion.append(\"{} {}\".format(short_descr, criterion))\n",
    "    else:\n",
    "        short_descr_criterion.append(short_descr)\n",
    "\n",
    "df[\"short_descr_criterion\"] = short_descr_criterion"
   ]
  },
  {
   "cell_type": "code",
   "execution_count": 40,
   "metadata": {},
   "outputs": [],
   "source": [
    "with open(\"../3.new_data/4A.df_structured_extended\", \"wb\") as f:\n",
    "    pickle.dump(df_structured_extension, f)\n",
    "\n",
    "with open(\"../3.new_data/4B.df_replication\", \"wb\") as f:\n",
    "    pickle.dump(df_structured, f)\n",
    "\n",
    "with open(\"../3.new_data/4C.df_structured_unstructured\", \"wb\") as f:\n",
    "    pickle.dump(df, f)"
   ]
  },
  {
   "cell_type": "code",
   "execution_count": null,
   "metadata": {},
   "outputs": [],
   "source": []
  }
 ],
 "metadata": {
  "kernelspec": {
   "display_name": "Python 3",
   "language": "python",
   "name": "python3"
  },
  "language_info": {
   "codemirror_mode": {
    "name": "ipython",
    "version": 3
   },
   "file_extension": ".py",
   "mimetype": "text/x-python",
   "name": "python",
   "nbconvert_exporter": "python",
   "pygments_lexer": "ipython3",
   "version": "3.11.6"
  }
 },
 "nbformat": 4,
 "nbformat_minor": 2
}
