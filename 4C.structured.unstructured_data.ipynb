{
 "cells": [
  {
   "cell_type": "code",
   "execution_count": 1,
   "metadata": {},
   "outputs": [],
   "source": [
    "import pandas as pd\n",
    "import numpy as np \n",
    "from tqdm import tqdm\n",
    "import matplotlib.pyplot as plt\n",
    "import category_encoders as ce\n",
    "from sklearn.preprocessing import RobustScaler\n",
    "import pickle"
   ]
  },
  {
   "cell_type": "code",
   "execution_count": 19,
   "metadata": {},
   "outputs": [
    {
     "data": {
      "text/html": [
       "<div>\n",
       "<style scoped>\n",
       "    .dataframe tbody tr th:only-of-type {\n",
       "        vertical-align: middle;\n",
       "    }\n",
       "\n",
       "    .dataframe tbody tr th {\n",
       "        vertical-align: top;\n",
       "    }\n",
       "\n",
       "    .dataframe thead th {\n",
       "        text-align: right;\n",
       "    }\n",
       "</style>\n",
       "<table border=\"1\" class=\"dataframe\">\n",
       "  <thead>\n",
       "    <tr style=\"text-align: right;\">\n",
       "      <th></th>\n",
       "      <th>TOP_TYPE</th>\n",
       "      <th>B_ACCELERATED</th>\n",
       "      <th>TYPE_OF_CONTRACT</th>\n",
       "      <th>TAL_LOCATION_NUTS</th>\n",
       "      <th>CPV</th>\n",
       "      <th>DT_AWARD</th>\n",
       "      <th>NUMBER_OFFERS</th>\n",
       "      <th>AWARD_VALUE_EURO_FIN_1</th>\n",
       "      <th>AWARD_EST_VALUE_EURO</th>\n",
       "      <th>date copy</th>\n",
       "    </tr>\n",
       "  </thead>\n",
       "  <tbody>\n",
       "    <tr>\n",
       "      <th>0</th>\n",
       "      <td>OPE</td>\n",
       "      <td>N</td>\n",
       "      <td>W</td>\n",
       "      <td>BG314</td>\n",
       "      <td>31</td>\n",
       "      <td>2019-12-02</td>\n",
       "      <td>3.0</td>\n",
       "      <td>2657688</td>\n",
       "      <td>2671496.57</td>\n",
       "      <td>2019-12-02</td>\n",
       "    </tr>\n",
       "    <tr>\n",
       "      <th>1</th>\n",
       "      <td>OPE</td>\n",
       "      <td>N</td>\n",
       "      <td>W</td>\n",
       "      <td>BG422</td>\n",
       "      <td>45</td>\n",
       "      <td>2019-12-09</td>\n",
       "      <td>3.0</td>\n",
       "      <td>3058417</td>\n",
       "      <td>3067798.34</td>\n",
       "      <td>2019-12-09</td>\n",
       "    </tr>\n",
       "    <tr>\n",
       "      <th>2</th>\n",
       "      <td>OPE</td>\n",
       "      <td>N</td>\n",
       "      <td>U</td>\n",
       "      <td>EL434</td>\n",
       "      <td>38</td>\n",
       "      <td>2019-09-02</td>\n",
       "      <td>1.0</td>\n",
       "      <td>237356</td>\n",
       "      <td>242134.07</td>\n",
       "      <td>2019-09-02</td>\n",
       "    </tr>\n",
       "    <tr>\n",
       "      <th>3</th>\n",
       "      <td>OPE</td>\n",
       "      <td>N</td>\n",
       "      <td>U</td>\n",
       "      <td>PL623</td>\n",
       "      <td>48</td>\n",
       "      <td>2019-12-23</td>\n",
       "      <td>3.0</td>\n",
       "      <td>442493</td>\n",
       "      <td>389196.49</td>\n",
       "      <td>2019-12-23</td>\n",
       "    </tr>\n",
       "    <tr>\n",
       "      <th>4</th>\n",
       "      <td>OPE</td>\n",
       "      <td>N</td>\n",
       "      <td>U</td>\n",
       "      <td>PL</td>\n",
       "      <td>33</td>\n",
       "      <td>2019-12-16</td>\n",
       "      <td>1.0</td>\n",
       "      <td>70968</td>\n",
       "      <td>67499.67</td>\n",
       "      <td>2019-12-16</td>\n",
       "    </tr>\n",
       "  </tbody>\n",
       "</table>\n",
       "</div>"
      ],
      "text/plain": [
       "  TOP_TYPE B_ACCELERATED TYPE_OF_CONTRACT TAL_LOCATION_NUTS CPV   DT_AWARD  \\\n",
       "0      OPE             N                W             BG314  31 2019-12-02   \n",
       "1      OPE             N                W             BG422  45 2019-12-09   \n",
       "2      OPE             N                U             EL434  38 2019-09-02   \n",
       "3      OPE             N                U             PL623  48 2019-12-23   \n",
       "4      OPE             N                U                PL  33 2019-12-16   \n",
       "\n",
       "   NUMBER_OFFERS  AWARD_VALUE_EURO_FIN_1  AWARD_EST_VALUE_EURO  date copy  \n",
       "0            3.0                 2657688            2671496.57 2019-12-02  \n",
       "1            3.0                 3058417            3067798.34 2019-12-09  \n",
       "2            1.0                  237356             242134.07 2019-09-02  \n",
       "3            3.0                  442493             389196.49 2019-12-23  \n",
       "4            1.0                   70968              67499.67 2019-12-16  "
      ]
     },
     "execution_count": 19,
     "metadata": {},
     "output_type": "execute_result"
    }
   ],
   "source": [
    "df.head()"
   ]
  },
  {
   "cell_type": "code",
   "execution_count": 14,
   "metadata": {},
   "outputs": [],
   "source": [
    "def encode(df):\n",
    "    #copy date column for sorting\n",
    "    df[\"date copy\"] = df[\"DT_AWARD\"].copy(deep=True)\n",
    "    \n",
    "    #ENCODE COLUMNS\n",
    "    base_n_encoder_cols = [\"CPV\", \"ISO_COUNTRY_CODE\", \"DT_AWARD\", \"TAL_LOCATION_NUTS\"]\n",
    "    one_hot_cols = [\"TYPE_OF_CONTRACT\", \"TOP_TYPE\", \"B_ACCELERATED\"]\n",
    "    encoder = ce.BaseNEncoder(cols=base_n_encoder_cols, return_df=True, base=2)\n",
    "    df = pd.get_dummies(df, columns=one_hot_cols, drop_first=True, dtype=int)\n",
    "    df = encoder.fit_transform(df)\n",
    "\n",
    "    return df"
   ]
  },
  {
   "cell_type": "code",
   "execution_count": 15,
   "metadata": {},
   "outputs": [],
   "source": [
    "def scale(df):\n",
    "    numeric_cols = [\"CRIT_PRICE_WEIGHT\", \"NUMBER_OFFERS\", \"AWARD_EST_VALUE_EURO\"]\n",
    "    scaler = RobustScaler()\n",
    "\n",
    "    values = df[numeric_cols].values\n",
    "    scaled_values = scaler.fit_transform(values)\n",
    "    df_numeric_scaled = pd.DataFrame(data=scaled_values)\n",
    "    df.loc[:,numeric_cols] = df_numeric_scaled\n",
    "\n",
    "    return df"
   ]
  },
  {
   "cell_type": "code",
   "execution_count": 16,
   "metadata": {},
   "outputs": [],
   "source": [
    "def encode_scale_split(df, train, validate):\n",
    "\n",
    "    #ENCODE\n",
    "    df = encode(df)\n",
    "\n",
    "    target_col = \"AWARD_VALUE_EURO_FIN_1\"\n",
    "    df = df.sort_values(by = [\"date copy\"], axis = 0, ascending = True)\n",
    "    train_indice = int(train * len(df))\n",
    "    validate_indice = train_indice + int(validate * len(df))\n",
    "\n",
    "    train_set = df.iloc[:train_indice]\n",
    "    val_set = df.iloc[train_indice:validate_indice]\n",
    "    test_set = df.iloc[validate_indice:]\n",
    "\n",
    "    #PERFORM SCALING\n",
    "    #train_set = scale(train_set)\n",
    "    #val_set = scale(val_set)\n",
    "    #test_set = scale(test_set)\n",
    "\n",
    "    #SPLIT THE DATASET\n",
    "    X_train = train_set.drop(columns = [target_col]).values\n",
    "    y_train = train_set[target_col].values\n",
    "\n",
    "    X_val = val_set.drop(columns = [target_col]).values\n",
    "    y_val = val_set[target_col].values\n",
    "\n",
    "    X_test = test_set.drop(columns = [target_col]).values\n",
    "    y_test = test_set[target_col].values\n",
    "\n",
    "    return X_train, y_train, X_val, y_val, X_test, y_test"
   ]
  },
  {
   "cell_type": "code",
   "execution_count": 17,
   "metadata": {},
   "outputs": [],
   "source": [
    "df = pd.read_pickle(\"../3.new_data/4A.df_structured\")"
   ]
  },
  {
   "cell_type": "code",
   "execution_count": 18,
   "metadata": {},
   "outputs": [
    {
     "ename": "ValueError",
     "evalue": "X does not contain the columns listed in cols",
     "output_type": "error",
     "traceback": [
      "\u001b[1;31m---------------------------------------------------------------------------\u001b[0m",
      "\u001b[1;31mValueError\u001b[0m                                Traceback (most recent call last)",
      "Cell \u001b[1;32mIn[18], line 1\u001b[0m\n\u001b[1;32m----> 1\u001b[0m X_train, y_train, X_val, y_val, X_test, y_test \u001b[39m=\u001b[39m encode_scale_split(df, \u001b[39m0.6\u001b[39;49m, \u001b[39m0.2\u001b[39;49m)\n",
      "Cell \u001b[1;32mIn[16], line 4\u001b[0m, in \u001b[0;36mencode_scale_split\u001b[1;34m(df, train, validate)\u001b[0m\n\u001b[0;32m      1\u001b[0m \u001b[39mdef\u001b[39;00m \u001b[39mencode_scale_split\u001b[39m(df, train, validate):\n\u001b[0;32m      2\u001b[0m \n\u001b[0;32m      3\u001b[0m     \u001b[39m#ENCODE\u001b[39;00m\n\u001b[1;32m----> 4\u001b[0m     df \u001b[39m=\u001b[39m encode(df)\n\u001b[0;32m      6\u001b[0m     target_col \u001b[39m=\u001b[39m \u001b[39m\"\u001b[39m\u001b[39mAWARD_VALUE_EURO_FIN_1\u001b[39m\u001b[39m\"\u001b[39m\n\u001b[0;32m      7\u001b[0m     df \u001b[39m=\u001b[39m df\u001b[39m.\u001b[39msort_values(by \u001b[39m=\u001b[39m [\u001b[39m\"\u001b[39m\u001b[39mdate copy\u001b[39m\u001b[39m\"\u001b[39m], axis \u001b[39m=\u001b[39m \u001b[39m0\u001b[39m, ascending \u001b[39m=\u001b[39m \u001b[39mTrue\u001b[39;00m)\n",
      "Cell \u001b[1;32mIn[14], line 10\u001b[0m, in \u001b[0;36mencode\u001b[1;34m(df)\u001b[0m\n\u001b[0;32m      8\u001b[0m encoder \u001b[39m=\u001b[39m ce\u001b[39m.\u001b[39mBaseNEncoder(cols\u001b[39m=\u001b[39mbase_n_encoder_cols, return_df\u001b[39m=\u001b[39m\u001b[39mTrue\u001b[39;00m, base\u001b[39m=\u001b[39m\u001b[39m2\u001b[39m)\n\u001b[0;32m      9\u001b[0m df \u001b[39m=\u001b[39m pd\u001b[39m.\u001b[39mget_dummies(df, columns\u001b[39m=\u001b[39mone_hot_cols, drop_first\u001b[39m=\u001b[39m\u001b[39mTrue\u001b[39;00m, dtype\u001b[39m=\u001b[39m\u001b[39mint\u001b[39m)\n\u001b[1;32m---> 10\u001b[0m df \u001b[39m=\u001b[39m encoder\u001b[39m.\u001b[39;49mfit_transform(df)\n\u001b[0;32m     12\u001b[0m \u001b[39mreturn\u001b[39;00m df\n",
      "File \u001b[1;32mc:\\Users\\gbolton\\OneDrive\\Thesis\\.venv2\\Lib\\site-packages\\sklearn\\utils\\_set_output.py:157\u001b[0m, in \u001b[0;36m_wrap_method_output.<locals>.wrapped\u001b[1;34m(self, X, *args, **kwargs)\u001b[0m\n\u001b[0;32m    155\u001b[0m \u001b[39m@wraps\u001b[39m(f)\n\u001b[0;32m    156\u001b[0m \u001b[39mdef\u001b[39;00m \u001b[39mwrapped\u001b[39m(\u001b[39mself\u001b[39m, X, \u001b[39m*\u001b[39margs, \u001b[39m*\u001b[39m\u001b[39m*\u001b[39mkwargs):\n\u001b[1;32m--> 157\u001b[0m     data_to_wrap \u001b[39m=\u001b[39m f(\u001b[39mself\u001b[39;49m, X, \u001b[39m*\u001b[39;49margs, \u001b[39m*\u001b[39;49m\u001b[39m*\u001b[39;49mkwargs)\n\u001b[0;32m    158\u001b[0m     \u001b[39mif\u001b[39;00m \u001b[39misinstance\u001b[39m(data_to_wrap, \u001b[39mtuple\u001b[39m):\n\u001b[0;32m    159\u001b[0m         \u001b[39m# only wrap the first output for cross decomposition\u001b[39;00m\n\u001b[0;32m    160\u001b[0m         return_tuple \u001b[39m=\u001b[39m (\n\u001b[0;32m    161\u001b[0m             _wrap_data_with_container(method, data_to_wrap[\u001b[39m0\u001b[39m], X, \u001b[39mself\u001b[39m),\n\u001b[0;32m    162\u001b[0m             \u001b[39m*\u001b[39mdata_to_wrap[\u001b[39m1\u001b[39m:],\n\u001b[0;32m    163\u001b[0m         )\n",
      "File \u001b[1;32mc:\\Users\\gbolton\\OneDrive\\Thesis\\.venv2\\Lib\\site-packages\\sklearn\\base.py:916\u001b[0m, in \u001b[0;36mTransformerMixin.fit_transform\u001b[1;34m(self, X, y, **fit_params)\u001b[0m\n\u001b[0;32m    912\u001b[0m \u001b[39m# non-optimized default implementation; override when a better\u001b[39;00m\n\u001b[0;32m    913\u001b[0m \u001b[39m# method is possible for a given clustering algorithm\u001b[39;00m\n\u001b[0;32m    914\u001b[0m \u001b[39mif\u001b[39;00m y \u001b[39mis\u001b[39;00m \u001b[39mNone\u001b[39;00m:\n\u001b[0;32m    915\u001b[0m     \u001b[39m# fit method of arity 1 (unsupervised transformation)\u001b[39;00m\n\u001b[1;32m--> 916\u001b[0m     \u001b[39mreturn\u001b[39;00m \u001b[39mself\u001b[39;49m\u001b[39m.\u001b[39;49mfit(X, \u001b[39m*\u001b[39;49m\u001b[39m*\u001b[39;49mfit_params)\u001b[39m.\u001b[39mtransform(X)\n\u001b[0;32m    917\u001b[0m \u001b[39melse\u001b[39;00m:\n\u001b[0;32m    918\u001b[0m     \u001b[39m# fit method of arity 2 (supervised transformation)\u001b[39;00m\n\u001b[0;32m    919\u001b[0m     \u001b[39mreturn\u001b[39;00m \u001b[39mself\u001b[39m\u001b[39m.\u001b[39mfit(X, y, \u001b[39m*\u001b[39m\u001b[39m*\u001b[39mfit_params)\u001b[39m.\u001b[39mtransform(X)\n",
      "File \u001b[1;32mc:\\Users\\gbolton\\OneDrive\\Thesis\\.venv2\\Lib\\site-packages\\category_encoders\\utils.py:306\u001b[0m, in \u001b[0;36mBaseEncoder.fit\u001b[1;34m(self, X, y, **kwargs)\u001b[0m\n\u001b[0;32m    303\u001b[0m \u001b[39mself\u001b[39m\u001b[39m.\u001b[39m_determine_fit_columns(X)\n\u001b[0;32m    305\u001b[0m \u001b[39mif\u001b[39;00m \u001b[39mnot\u001b[39;00m \u001b[39mset\u001b[39m(\u001b[39mself\u001b[39m\u001b[39m.\u001b[39mcols)\u001b[39m.\u001b[39missubset(X\u001b[39m.\u001b[39mcolumns):\n\u001b[1;32m--> 306\u001b[0m     \u001b[39mraise\u001b[39;00m \u001b[39mValueError\u001b[39;00m(\u001b[39m'\u001b[39m\u001b[39mX does not contain the columns listed in cols\u001b[39m\u001b[39m'\u001b[39m)\n\u001b[0;32m    308\u001b[0m \u001b[39mif\u001b[39;00m \u001b[39mself\u001b[39m\u001b[39m.\u001b[39mhandle_missing \u001b[39m==\u001b[39m \u001b[39m'\u001b[39m\u001b[39merror\u001b[39m\u001b[39m'\u001b[39m:\n\u001b[0;32m    309\u001b[0m     \u001b[39mif\u001b[39;00m X[\u001b[39mself\u001b[39m\u001b[39m.\u001b[39mcols]\u001b[39m.\u001b[39misna()\u001b[39m.\u001b[39many()\u001b[39m.\u001b[39many():\n",
      "\u001b[1;31mValueError\u001b[0m: X does not contain the columns listed in cols"
     ]
    }
   ],
   "source": [
    "X_train, y_train, X_val, y_val, X_test, y_test = encode_scale_split(df, 0.6, 0.2)"
   ]
  },
  {
   "cell_type": "code",
   "execution_count": null,
   "metadata": {},
   "outputs": [],
   "source": []
  }
 ],
 "metadata": {
  "kernelspec": {
   "display_name": ".venv2",
   "language": "python",
   "name": "python3"
  },
  "language_info": {
   "codemirror_mode": {
    "name": "ipython",
    "version": 3
   },
   "file_extension": ".py",
   "mimetype": "text/x-python",
   "name": "python",
   "nbconvert_exporter": "python",
   "pygments_lexer": "ipython3",
   "version": "3.11.6"
  },
  "orig_nbformat": 4
 },
 "nbformat": 4,
 "nbformat_minor": 2
}
